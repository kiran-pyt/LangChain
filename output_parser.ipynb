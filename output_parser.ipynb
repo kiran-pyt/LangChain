{
 "cells": [
  {
   "cell_type": "code",
   "execution_count": 2,
   "metadata": {},
   "outputs": [],
   "source": [
    "from langchain.schema.output_parser import StrOutputParser\n",
    "from langchain_core.messages import SystemMessage,HumanMessage,AIMessage,ToolMessage,AIMessageChunk\n",
    "from langchain_core.prompts import PromptTemplate,ChatPromptTemplate\n",
    "from langchain_openai.chat_models import ChatOpenAI\n",
    "import os\n",
    "from dotenv import load_dotenv"
   ]
  },
  {
   "cell_type": "code",
   "execution_count": 3,
   "metadata": {},
   "outputs": [],
   "source": [
    "load_dotenv()\n",
    "\n",
    "# Access them\n",
    "endpoint = os.getenv(\"LANGCHAIN_ENDPOINT\")\n",
    "api_key = os.getenv(\"LANGCHAIN_API_KEY\")\n",
    "open_ai_api_key=os.getenv(\"open_ai_api_key\")\n",
    "# print(\"LangChain Endpoint:\", endpoint)\n",
    "# print(\"API Key:\", api_key)"
   ]
  },
  {
   "cell_type": "code",
   "execution_count": 4,
   "metadata": {},
   "outputs": [],
   "source": [
    "model=ChatOpenAI(\n",
    "    temperature=0.7,\n",
    "    model_name=\"gpt-4-turbo\",\n",
    "    api_key=open_ai_api_key,\n",
    "    max_tokens=50\n",
    ")"
   ]
  },
  {
   "cell_type": "code",
   "execution_count": 6,
   "metadata": {},
   "outputs": [],
   "source": [
    "prompt=ChatPromptTemplate([\n",
    "    (\"system\", \"You are an experienced medical professional specializing in {medical_field}\"),\n",
    "    (\"user\",\"list three symptoms for {disease}\")\n",
    "])\n",
    "output_parser=StrOutputParser()\n",
    "chain=prompt | model | output_parser\n",
    "input={\"medical_field\":\"infectious diseases\",\"disease\":\"malaria\"}\n",
    "result=chain.invoke(input)"
   ]
  },
  {
   "cell_type": "code",
   "execution_count": 7,
   "metadata": {},
   "outputs": [
    {
     "name": "stdout",
     "output_type": "stream",
     "text": [
      "Malaria is a mosquito-borne infectious disease caused by Plasmodium parasites. The symptoms can vary, but three common symptoms of malaria include:\n",
      "\n",
      "1. **Fever**: This is often high and may come in waves. Fever in malaria typically\n"
     ]
    }
   ],
   "source": [
    "print(result)"
   ]
  },
  {
   "cell_type": "code",
   "execution_count": null,
   "metadata": {},
   "outputs": [],
   "source": [
    " "
   ]
  }
 ],
 "metadata": {
  "kernelspec": {
   "display_name": "venv",
   "language": "python",
   "name": "python3"
  },
  "language_info": {
   "codemirror_mode": {
    "name": "ipython",
    "version": 3
   },
   "file_extension": ".py",
   "mimetype": "text/x-python",
   "name": "python",
   "nbconvert_exporter": "python",
   "pygments_lexer": "ipython3",
   "version": "3.12.4"
  }
 },
 "nbformat": 4,
 "nbformat_minor": 2
}
