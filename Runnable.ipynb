{
 "cells": [
  {
   "cell_type": "code",
   "execution_count": 1,
   "metadata": {},
   "outputs": [],
   "source": [
    "import torch\n",
    "import os\n",
    "from dotenv import load_dotenv\n",
    "from langchain.schema.runnable import Runnable,RunnableLambda,RunnableSequence,RunnablePassthrough,RunnableParallel\n",
    "from langchain_openai import OpenAI\n",
    "from langchain_openai import ChatOpenAI\n",
    "from langchain_core.messages import HumanMessage, SystemMessage\n",
    "from langchain.prompts import PromptTemplate\n",
    "from langchain.prompts import ChatPromptTemplate, HumanMessagePromptTemplate\n",
    "from langchain.prompts import AIMessagePromptTemplate, SystemMessagePromptTemplate,FewShotChatMessagePromptTemplate\n",
    "from langchain.chains import LLMChain,SimpleSequentialChain\n",
    "from langchain.schema.output_parser import StrOutputParser\n",
    "# Initialize the language model"
   ]
  },
  {
   "cell_type": "code",
   "execution_count": 2,
   "metadata": {},
   "outputs": [
    {
     "name": "stdout",
     "output_type": "stream",
     "text": [
      "LangChain Endpoint: https://api.smith.langchain.com\n",
      "API Key: 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\n"
     ]
    }
   ],
   "source": [
    "load_dotenv()\n",
    "\n",
    "# Access them\n",
    "endpoint = os.getenv(\"LANGCHAIN_ENDPOINT\")\n",
    "api_key = os.getenv(\"LANGCHAIN_API_KEY\")\n",
    "open_ai_api_key=os.getenv(\"open_ai_api_key\")\n",
    "print(\"LangChain Endpoint:\", endpoint)\n",
    "print(\"API Key:\", api_key)"
   ]
  },
  {
   "cell_type": "markdown",
   "metadata": {},
   "source": [
    "# RunnableLambda"
   ]
  },
  {
   "cell_type": "code",
   "execution_count": 3,
   "metadata": {},
   "outputs": [],
   "source": [
    "uppercase_runnable = RunnableLambda(lambda x: x.upper())\n",
    "result = uppercase_runnable.invoke(\"langchain\")"
   ]
  },
  {
   "cell_type": "code",
   "execution_count": 4,
   "metadata": {},
   "outputs": [
    {
     "name": "stdout",
     "output_type": "stream",
     "text": [
      "27\n"
     ]
    }
   ],
   "source": [
    "def triple(x):\n",
    "    return x**3\n",
    "runnable=RunnableLambda(triple)\n",
    "print(runnable.invoke(3))"
   ]
  },
  {
   "cell_type": "code",
   "execution_count": 5,
   "metadata": {},
   "outputs": [
    {
     "name": "stdout",
     "output_type": "stream",
     "text": [
      "[8, 27, 64]\n"
     ]
    }
   ],
   "source": [
    "print(runnable.batch([2,3,4]))"
   ]
  },
  {
   "cell_type": "code",
   "execution_count": 6,
   "metadata": {},
   "outputs": [
    {
     "name": "stdout",
     "output_type": "stream",
     "text": [
      "27\n",
      "[8, 27, 64]\n"
     ]
    }
   ],
   "source": [
    "runnable=RunnableLambda(lambda x:x**3)\n",
    "print(runnable.invoke(3))\n",
    "print(runnable.batch([2,3,4]))"
   ]
  },
  {
   "cell_type": "code",
   "execution_count": 7,
   "metadata": {},
   "outputs": [
    {
     "name": "stdout",
     "output_type": "stream",
     "text": [
      "hello,kiran\n"
     ]
    }
   ],
   "source": [
    "def greet(name):\n",
    "    return f\"hello,{name}\"\n",
    "runnable=RunnableLambda(greet)\n",
    "print(runnable.invoke(\"kiran\"))"
   ]
  },
  {
   "cell_type": "code",
   "execution_count": 8,
   "metadata": {},
   "outputs": [
    {
     "name": "stdout",
     "output_type": "stream",
     "text": [
      "hello,kiran\n"
     ]
    }
   ],
   "source": [
    "def greet(name):\n",
    "    return f\"hello,{name}\"\n",
    "runnable=RunnableLambda(lambda x:greet(x))\n",
    "print(runnable.invoke(\"kiran\"))"
   ]
  },
  {
   "cell_type": "markdown",
   "metadata": {},
   "source": [
    "# RunnableSequence"
   ]
  },
  {
   "cell_type": "code",
   "execution_count": 9,
   "metadata": {},
   "outputs": [
    {
     "name": "stdout",
     "output_type": "stream",
     "text": [
      "this-sentence-contains-3-words:-langchain-is-great. This message was processed successfully\n"
     ]
    }
   ],
   "source": [
    "def to_lowercase(text):\n",
    "    return text.lower()\n",
    "def replace_spaces(text):\n",
    "    return text.replace(\" \",\"-\")\n",
    "def summarze_text(text):\n",
    "    word_count=len(text.split())\n",
    "    return f\"This sentence contains {word_count} words: {text}\"\n",
    "def append_note(text):\n",
    "    return f\"{text}. This message was processed successfully\"\n",
    "\n",
    "\n",
    "lower_case_runnable=RunnableLambda(lambda x:to_lowercase(x))\n",
    "replace_spaces_runnable=RunnableLambda(lambda x:replace_spaces(x))\n",
    "summarze_text_runnable=RunnableLambda(lambda x:summarze_text(x))\n",
    "append_note_runnable=RunnableLambda(lambda x:append_note(x))\n",
    "\n",
    "chain=RunnableSequence(\n",
    "    first=summarze_text_runnable,\n",
    "    middle=[replace_spaces_runnable,lower_case_runnable],\n",
    "    last=append_note_runnable\n",
    "\n",
    ")\n",
    "\n",
    "input_data=\"Langchain is great\"\n",
    "result=chain.invoke(input_data)\n",
    "print(result)"
   ]
  },
  {
   "cell_type": "code",
   "execution_count": 10,
   "metadata": {},
   "outputs": [
    {
     "data": {
      "text/plain": [
       "'this-sentence-contains-3-words:-langchain-is-great. This message was processed successfully'"
      ]
     },
     "execution_count": 10,
     "metadata": {},
     "output_type": "execute_result"
    }
   ],
   "source": [
    "chain=summarze_text_runnable|replace_spaces_runnable|lower_case_runnable|append_note_runnable\n",
    "chain.invoke(input_data)"
   ]
  },
  {
   "cell_type": "code",
   "execution_count": 11,
   "metadata": {},
   "outputs": [
    {
     "name": "stdout",
     "output_type": "stream",
     "text": [
      ":langchain-is-great? appears to be a tag or label possibly used in a digital context, such as social media, programming, or categorization within a database. Although the specific origins or usage of this tag are not detailed, it likely serves to express enthusiasm or positive sentiment about \"LangChain,\" which could refer to a technology, framework, or concept related to language processing or chain structures in computing. This tag helps in grouping discussions, content, or entries that share a positive view or successful experiences with LangChain.\n"
     ]
    }
   ],
   "source": [
    "def to_lowercase(text):\n",
    "    return text.lower()\n",
    "def replace_spaces(text):\n",
    "    return text.replace(\" \",\"-\")\n",
    "\n",
    "lower_case_runnable=RunnableLambda(lambda x:to_lowercase(x))\n",
    "replace_spaces_runnable=RunnableLambda(lambda x:replace_spaces(x))\n",
    "chain=RunnableSequence(replace_spaces_runnable,lower_case_runnable)\n",
    "\n",
    "prompt=PromptTemplate.from_template(\"Generate a short description for :{term}?\")\n",
    "llm=ChatOpenAI(temperature=0.7,model_name=\"gpt-4-turbo\",api_key=open_ai_api_key)\n",
    "full_chain=chain|prompt|llm|StrOutputParser()\n",
    "\n",
    "input_data=\"Langchain is great\"\n",
    "result=full_chain.invoke(input_data)\n",
    "print(result)"
   ]
  },
  {
   "cell_type": "markdown",
   "metadata": {},
   "source": [
    "#  RunnablePassthrough"
   ]
  },
  {
   "cell_type": "code",
   "execution_count": 12,
   "metadata": {},
   "outputs": [
    {
     "data": {
      "text/plain": [
       "'The product of 20 multiplied by 20 is 400.'"
      ]
     },
     "execution_count": 12,
     "metadata": {},
     "output_type": "execute_result"
    }
   ],
   "source": [
    "\n",
    "prompt=PromptTemplate.from_template(\"What is 20 multiply by :{num}?\")\n",
    "runnable_chain={\"num\":RunnablePassthrough()}|prompt|llm|StrOutputParser()\n",
    "runnable_chain.invoke(20)"
   ]
  },
  {
   "cell_type": "code",
   "execution_count": 13,
   "metadata": {},
   "outputs": [
    {
     "name": "stdout",
     "output_type": "stream",
     "text": [
      "1. **World Trade Center Bombing (1993)** - On February 26, 1993, a terrorist bomb exploded in a garage of the North Tower of the World Trade Center in New York City. This attack killed six people and injured over a thousand. The bombing was executed with a rented van filled with about 1,200 pounds of explosives. This event marked a significant moment in American history as it was one of the earliest acts of organized terrorism targeting significant U.S. landmarks, leading to increased awareness and changes in security measures across the country.\n",
      "\n",
      "2. **Grand Canyon Becomes a National Park (1919)** - On February 26, 1919, the Grand Canyon was designated as a National Park by President Woodrow Wilson. The Grand Canyon, known for its vast size and intricate and colorful landscape, had been a national monument for 11 years prior to becoming the 17th U.S. National Park. This designation helped preserve its natural beauty and biodiversity, allowing for managed public access and protection under federal regulations, ensuring its conservation for future generations.\n"
     ]
    }
   ],
   "source": [
    "from datetime import datetime\n",
    "def get_today(day):\n",
    "    return datetime.today().strftime(\"%B %d\")\n",
    "prompt =PromptTemplate.from_template(\n",
    "    \"List {n} significant historical events that occured on {today}.Include a brief description of each\"\n",
    ")\n",
    "chain={\"today\":RunnableLambda(get_today),\"n\":RunnablePassthrough()}|prompt| llm | StrOutputParser()\n",
    "print(chain.invoke(2))"
   ]
  },
  {
   "cell_type": "code",
   "execution_count": 15,
   "metadata": {},
   "outputs": [
    {
     "name": "stdout",
     "output_type": "stream",
     "text": [
      "{'addition': 6, 'squared': 16}\n"
     ]
    }
   ],
   "source": [
    "def double(x):\n",
    "    return x**2\n",
    "def add(x):\n",
    "    return x+2\n",
    "def squared(x):\n",
    "    return x**2\n",
    "runnable_1=RunnableLambda(double)\n",
    "runnable_2=RunnableLambda(add)\n",
    "runnable_3=RunnableLambda(squared)\n",
    "\n",
    "sequence=runnable_1|RunnableParallel({\"addition\":runnable_2,\"squared\":runnable_3})\n",
    "print(sequence.invoke(2))"
   ]
  },
  {
   "cell_type": "code",
   "execution_count": 16,
   "metadata": {},
   "outputs": [
    {
     "name": "stdout",
     "output_type": "stream",
     "text": [
      "[{'addition': 11, 'squared': 81}, {'addition': 18, 'squared': 256}]\n"
     ]
    }
   ],
   "source": [
    "print(sequence.batch([3,4]))"
   ]
  },
  {
   "cell_type": "code",
   "execution_count": null,
   "metadata": {},
   "outputs": [],
   "source": []
  }
 ],
 "metadata": {
  "kernelspec": {
   "display_name": "Python 3",
   "language": "python",
   "name": "python3"
  },
  "language_info": {
   "codemirror_mode": {
    "name": "ipython",
    "version": 3
   },
   "file_extension": ".py",
   "mimetype": "text/x-python",
   "name": "python",
   "nbconvert_exporter": "python",
   "pygments_lexer": "ipython3",
   "version": "3.12.4"
  }
 },
 "nbformat": 4,
 "nbformat_minor": 2
}
