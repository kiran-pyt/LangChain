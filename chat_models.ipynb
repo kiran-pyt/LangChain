{
 "cells": [
  {
   "cell_type": "code",
   "execution_count": null,
   "metadata": {},
   "outputs": [],
   "source": [
    "from langchain_openai.chat_models import ChatOpenAI\n",
    "import os\n",
    "from dotenv import load_dotenv\n"
   ]
  },
  {
   "cell_type": "code",
   "execution_count": 7,
   "metadata": {},
   "outputs": [],
   "source": [
    "load_dotenv()\n",
    "\n",
    "# Access them\n",
    "endpoint = os.getenv(\"LANGCHAIN_ENDPOINT\")\n",
    "api_key = os.getenv(\"LANGCHAIN_API_KEY\")\n",
    "open_ai_api_key=os.getenv(\"open_ai_api_key\")\n",
    "# print(\"LangChain Endpoint:\", endpoint)\n",
    "# print(\"API Key:\", api_key)"
   ]
  },
  {
   "cell_type": "code",
   "execution_count": 10,
   "metadata": {},
   "outputs": [
    {
     "name": "stdout",
     "output_type": "stream",
     "text": [
      "The capital of the United States of America is Washington, D.C.\n"
     ]
    }
   ],
   "source": [
    "model=ChatOpenAI(\n",
    "    temperature=0.7,\n",
    "    model_name=\"gpt-4-turbo\",\n",
    "    api_key=open_ai_api_key,\n",
    "    max_tokens=50\n",
    ")\n",
    "\n",
    "question=\"what is the captial of USA\"\n",
    "response=model.invoke(question)\n",
    "print(response.content)"
   ]
  },
  {
   "cell_type": "code",
   "execution_count": 12,
   "metadata": {},
   "outputs": [
    {
     "name": "stdout",
     "output_type": "stream",
     "text": [
      "<think>\n",
      "\n",
      "</think>\n",
      "\n",
      "As of now, as of my knowledge cutoff in July 2024, the capital of the United States is **Washington, D.C.**\n"
     ]
    }
   ],
   "source": [
    "from langchain_ollama import ChatOllama\n",
    "\n",
    "base_url = \"http://localhost:11434\"\n",
    "model = 'llama3.2:1b'\n",
    "model = 'deepseek-r1:1.5b'\n",
    "# model = 'sherlock'\n",
    "\n",
    "# model = 'uncensored'\n",
    "\n",
    "llm = ChatOllama(\n",
    "    base_url=base_url,\n",
    "    model = model,\n",
    "    temperature = 0.8,\n",
    "    num_predict = 256\n",
    ")\n",
    "\n",
    "\n",
    "response = llm.invoke(\"what is the captial of USA\")\n",
    "\n",
    "print(response.content)"
   ]
  },
  {
   "cell_type": "code",
   "execution_count": null,
   "metadata": {},
   "outputs": [],
   "source": []
  },
  {
   "cell_type": "code",
   "execution_count": null,
   "metadata": {},
   "outputs": [],
   "source": []
  }
 ],
 "metadata": {
  "kernelspec": {
   "display_name": "venv",
   "language": "python",
   "name": "python3"
  },
  "language_info": {
   "codemirror_mode": {
    "name": "ipython",
    "version": 3
   },
   "file_extension": ".py",
   "mimetype": "text/x-python",
   "name": "python",
   "nbconvert_exporter": "python",
   "pygments_lexer": "ipython3",
   "version": "3.12.4"
  }
 },
 "nbformat": 4,
 "nbformat_minor": 2
}
