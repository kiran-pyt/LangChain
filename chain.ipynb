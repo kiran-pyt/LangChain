{
 "cells": [
  {
   "cell_type": "code",
   "execution_count": 1,
   "metadata": {},
   "outputs": [],
   "source": [
    "from langchain_core.messages import SystemMessage,HumanMessage,AIMessage,ToolMessage,AIMessageChunk\n",
    "from langchain_core.prompts import PromptTemplate,ChatPromptTemplate\n",
    "from langchain_openai.chat_models import ChatOpenAI\n",
    "import os\n",
    "from dotenv import load_dotenv\n",
    "from langchain.schema.runnable import Runnable,RunnableLambda,RunnableSequence,RunnablePassthrough,RunnableParallel"
   ]
  },
  {
   "cell_type": "code",
   "execution_count": 2,
   "metadata": {},
   "outputs": [],
   "source": [
    "load_dotenv()\n",
    "\n",
    "# Access them\n",
    "endpoint = os.getenv(\"LANGCHAIN_ENDPOINT\")\n",
    "api_key = os.getenv(\"LANGCHAIN_API_KEY\")\n",
    "open_ai_api_key=os.getenv(\"open_ai_api_key\")\n",
    "# print(\"LangChain Endpoint:\", endpoint)\n",
    "# print(\"API Key:\", api_key)"
   ]
  },
  {
   "cell_type": "code",
   "execution_count": 3,
   "metadata": {},
   "outputs": [],
   "source": [
    "model=ChatOpenAI(\n",
    "    temperature=0.7,\n",
    "    model_name=\"gpt-4-turbo\",\n",
    "    api_key=open_ai_api_key,\n",
    "    max_tokens=50\n",
    ")"
   ]
  },
  {
   "cell_type": "code",
   "execution_count": 4,
   "metadata": {},
   "outputs": [],
   "source": [
    "prompt=PromptTemplate.from_template(\"Tell me a joke about {topic}\")\n",
    "input={\"topic\":\"Telugu\"}"
   ]
  },
  {
   "cell_type": "code",
   "execution_count": 5,
   "metadata": {},
   "outputs": [
    {
     "name": "stdout",
     "output_type": "stream",
     "text": [
      "Why don’t secrets last long in a Telugu movie?\n",
      "\n",
      "Because everyone speaks in double meanings and the subtitles give it away!\n"
     ]
    }
   ],
   "source": [
    "chain =prompt | model\n",
    "output=chain.invoke(input)\n",
    "print(output.content)"
   ]
  },
  {
   "cell_type": "code",
   "execution_count": 6,
   "metadata": {},
   "outputs": [],
   "source": [
    "prompt=ChatPromptTemplate([\n",
    "    (\"system\",\"You are a helpful assisant knowledgeable about world cuisines\"),\n",
    "    (\"user\",\"list ten dishes from {Country}\")\n",
    "])\n",
    "\n",
    "input={\"Country\":\"Mexico\"}"
   ]
  },
  {
   "cell_type": "code",
   "execution_count": 7,
   "metadata": {},
   "outputs": [
    {
     "name": "stdout",
     "output_type": "stream",
     "text": [
      "Mexican cuisine is rich with vibrant flavors, diverse ingredients, and a wide range of dishes that reflect the country’s varied geography and cultural heritage. Here are ten popular dishes from Mexico:\n",
      "\n",
      "1. **Tacos** - Perhaps the most famous Mexican dish\n"
     ]
    }
   ],
   "source": [
    "chain =prompt | model\n",
    "output=chain.invoke(input)\n",
    "print(output.content)"
   ]
  },
  {
   "cell_type": "code",
   "execution_count": null,
   "metadata": {},
   "outputs": [],
   "source": []
  }
 ],
 "metadata": {
  "kernelspec": {
   "display_name": "venv",
   "language": "python",
   "name": "python3"
  },
  "language_info": {
   "codemirror_mode": {
    "name": "ipython",
    "version": 3
   },
   "file_extension": ".py",
   "mimetype": "text/x-python",
   "name": "python",
   "nbconvert_exporter": "python",
   "pygments_lexer": "ipython3",
   "version": "3.12.4"
  }
 },
 "nbformat": 4,
 "nbformat_minor": 2
}
